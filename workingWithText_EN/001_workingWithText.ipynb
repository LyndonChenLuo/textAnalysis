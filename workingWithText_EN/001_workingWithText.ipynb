{
 "cells": [
  {
   "cell_type": "markdown",
   "metadata": {},
   "source": [
    "## Working with Text\n",
    "---\n",
    "> 罗晨\n",
    "\n",
    "> Nov, 2017"
   ]
  },
  {
   "cell_type": "code",
   "execution_count": 1,
   "metadata": {},
   "outputs": [
    {
     "name": "stdout",
     "output_type": "stream",
     "text": [
      "Python 3.6.3\r\n"
     ]
    }
   ],
   "source": [
    "!python3 --version"
   ]
  },
  {
   "cell_type": "markdown",
   "metadata": {},
   "source": [
    "### DTM: Doc-term matrix\n",
    "- 语料分析最常用的方法是建立词频 word frequencies （包含词频的列表）或者n-连词频 n-grams frequencies\n",
    "- 文本作为向量（包含词频的列表），词袋（无序）"
   ]
  },
  {
   "cell_type": "code",
   "execution_count": 2,
   "metadata": {},
   "outputs": [],
   "source": [
    "import numpy as np\n",
    "'''\n",
    "用scikit-learn中的CountVectorizer类来建立DTM\n",
    "包含参数：\n",
    "lowercase 分词前全部字母小写\n",
    "min_df 移除少于在min_df文档中出现的词\n",
    "vocabulary 设置这个后，会忽略不在vocabulary中的单词\n",
    "strip_accents 移除accents\n",
    "token_pattern 用re来设置是否保留某些字符\n",
    "tokenizer 分词器\n",
    "'''\n",
    "from sklearn.feature_extraction.text import CountVectorizer"
   ]
  },
  {
   "cell_type": "code",
   "execution_count": 3,
   "metadata": {},
   "outputs": [],
   "source": [
    "filenames = ['data/austen-brontë/Austen_Emma.txt', \n",
    "             'data/austen-brontë/Austen_Pride.txt', \n",
    "             'data/austen-brontë/Austen_Sense.txt', \n",
    "             'data/austen-brontë/CBronte_Jane.txt', \n",
    "             'data/austen-brontë/CBronte_Professor.txt', \n",
    "             'data/austen-brontë/CBronte_Villette.txt']\n",
    "vectorizer = CountVectorizer(input='filename')\n",
    "# dtm是一个稀疏矩阵\n",
    "# Python中一个整数占据4个字节\n",
    "dtm = vectorizer.fit_transform(filenames)\n",
    "# vocab是一个包含词汇的列表，词汇就是特征 features\n",
    "vocab = vectorizer.get_feature_names()"
   ]
  },
  {
   "cell_type": "code",
   "execution_count": 4,
   "metadata": {},
   "outputs": [
    {
     "name": "stdout",
     "output_type": "stream",
     "text": [
      "(6, 22854)\n",
      "(22854,)\n"
     ]
    }
   ],
   "source": [
    "# 都转化为NumPy array以适应更多操作\n",
    "dtm = dtm.toarray()\n",
    "vocab = np.array(vocab)\n",
    "print(dtm.shape)\n",
    "print(vocab.shape)"
   ]
  },
  {
   "cell_type": "code",
   "execution_count": 5,
   "metadata": {},
   "outputs": [
    {
     "data": {
      "text/plain": [
       "95"
      ]
     },
     "execution_count": 5,
     "metadata": {},
     "output_type": "execute_result"
    }
   ],
   "source": [
    "# 计算house在第一个文档出现的次数\n",
    "# 方法1:基本方法\n",
    "filenames[0] == 'data/austen-brontë/Austen_Emma.txt'\n",
    "house_idx = list(vocab).index('house')\n",
    "dtm[0, house_idx]"
   ]
  },
  {
   "cell_type": "code",
   "execution_count": 6,
   "metadata": {},
   "outputs": [
    {
     "data": {
      "text/plain": [
       "array([95], dtype=int64)"
      ]
     },
     "execution_count": 6,
     "metadata": {},
     "output_type": "execute_result"
    }
   ],
   "source": [
    "# 方法2:效果同上，但更推荐NumPy arrays的操作习惯\n",
    "# NumPy中，X.dot(Y) = XY\n",
    "dtm[0, vocab == 'house']"
   ]
  },
  {
   "cell_type": "code",
   "execution_count": 7,
   "metadata": {},
   "outputs": [],
   "source": [
    "import os\n",
    "import pandas as pd"
   ]
  },
  {
   "cell_type": "code",
   "execution_count": 8,
   "metadata": {},
   "outputs": [
    {
     "data": {
      "text/html": [
       "<div>\n",
       "<style>\n",
       "    .dataframe thead tr:only-child th {\n",
       "        text-align: right;\n",
       "    }\n",
       "\n",
       "    .dataframe thead th {\n",
       "        text-align: left;\n",
       "    }\n",
       "\n",
       "    .dataframe tbody tr th {\n",
       "        vertical-align: top;\n",
       "    }\n",
       "</style>\n",
       "<table border=\"1\" class=\"dataframe\">\n",
       "  <thead>\n",
       "    <tr style=\"text-align: right;\">\n",
       "      <th></th>\n",
       "      <th>Austen_Emma</th>\n",
       "      <th>Austen_Pride</th>\n",
       "      <th>Austen_Sense</th>\n",
       "      <th>CBronte_Jane</th>\n",
       "      <th>CBronte_Professor</th>\n",
       "      <th>CBronte_Villette</th>\n",
       "    </tr>\n",
       "  </thead>\n",
       "  <tbody>\n",
       "    <tr>\n",
       "      <th>and</th>\n",
       "      <td>4896</td>\n",
       "      <td>3584</td>\n",
       "      <td>3491</td>\n",
       "      <td>6626</td>\n",
       "      <td>2936</td>\n",
       "      <td>6374</td>\n",
       "    </tr>\n",
       "    <tr>\n",
       "      <th>emma</th>\n",
       "      <td>865</td>\n",
       "      <td>0</td>\n",
       "      <td>0</td>\n",
       "      <td>0</td>\n",
       "      <td>0</td>\n",
       "      <td>0</td>\n",
       "    </tr>\n",
       "    <tr>\n",
       "      <th>home</th>\n",
       "      <td>130</td>\n",
       "      <td>66</td>\n",
       "      <td>69</td>\n",
       "      <td>80</td>\n",
       "      <td>37</td>\n",
       "      <td>121</td>\n",
       "    </tr>\n",
       "    <tr>\n",
       "      <th>house</th>\n",
       "      <td>95</td>\n",
       "      <td>107</td>\n",
       "      <td>161</td>\n",
       "      <td>182</td>\n",
       "      <td>93</td>\n",
       "      <td>129</td>\n",
       "    </tr>\n",
       "    <tr>\n",
       "      <th>of</th>\n",
       "      <td>4291</td>\n",
       "      <td>3609</td>\n",
       "      <td>3572</td>\n",
       "      <td>4364</td>\n",
       "      <td>2663</td>\n",
       "      <td>4845</td>\n",
       "    </tr>\n",
       "    <tr>\n",
       "      <th>the</th>\n",
       "      <td>5201</td>\n",
       "      <td>4330</td>\n",
       "      <td>4105</td>\n",
       "      <td>7846</td>\n",
       "      <td>3836</td>\n",
       "      <td>8363</td>\n",
       "    </tr>\n",
       "  </tbody>\n",
       "</table>\n",
       "</div>"
      ],
      "text/plain": [
       "       Austen_Emma  Austen_Pride  Austen_Sense  CBronte_Jane  \\\n",
       "and           4896          3584          3491          6626   \n",
       "emma           865             0             0             0   \n",
       "home           130            66            69            80   \n",
       "house           95           107           161           182   \n",
       "of            4291          3609          3572          4364   \n",
       "the           5201          4330          4105          7846   \n",
       "\n",
       "       CBronte_Professor  CBronte_Villette  \n",
       "and                 2936              6374  \n",
       "emma                   0                 0  \n",
       "home                  37               121  \n",
       "house                 93               129  \n",
       "of                  2663              4845  \n",
       "the                 3836              8363  "
      ]
     },
     "execution_count": 8,
     "metadata": {},
     "output_type": "execute_result"
    }
   ],
   "source": [
    "queryDreq = {}\n",
    "queryWord = ['and', 'emma', 'home', 'house', 'of', 'the']\n",
    "for doc in range(len(filenames)):\n",
    "    lst = []\n",
    "    for word in queryWord:\n",
    "        value = dtm[doc, vocab == word]\n",
    "        lst.append(value[0])\n",
    "    queryDreq[os.path.basename(filenames[doc]).split('.')[0]] = lst\n",
    "queryDreq = pd.DataFrame(queryDreq)\n",
    "queryDreq.index = queryWord\n",
    "queryDreq"
   ]
  },
  {
   "cell_type": "markdown",
   "metadata": {},
   "source": [
    "### 比较文本\n",
    "- DTM中每一行都是一本小说的词频，可以视为向量\n",
    "- Euclidean Distance，可以扩展到多维空间中\n",
    "$$||\\vec{x} - \\vec{y}|| = \\sqrt{\\sum_{i=1}^p (x_i - y_i)^2}$$"
   ]
  },
  {
   "cell_type": "code",
   "execution_count": 9,
   "metadata": {},
   "outputs": [
    {
     "name": "stdout",
     "output_type": "stream",
     "text": [
      "6 22854\n"
     ]
    }
   ],
   "source": [
    "# 手工计算行数、列数\n",
    "n, _ = dtm.shape\n",
    "print(n, _)"
   ]
  },
  {
   "cell_type": "code",
   "execution_count": 10,
   "metadata": {},
   "outputs": [
    {
     "data": {
      "text/plain": [
       "array([[    0.        ,  3856.28875993,  4182.80109496,  5119.70301873,\n",
       "         7113.27378919,  5280.17244037],\n",
       "       [ 3856.28875993,     0.        ,  1922.60500363,  6313.08339878,\n",
       "         4126.23932898,  6381.23875121],\n",
       "       [ 4182.80109496,  1922.60500363,     0.        ,  6657.36419313,\n",
       "         4045.34460831,  6650.31202276],\n",
       "       [ 5119.70301873,  6313.08339878,  6657.36419313,     0.        ,\n",
       "         8363.82765246,  2591.54664245],\n",
       "       [ 7113.27378919,  4126.23932898,  4045.34460831,  8363.82765246,\n",
       "            0.        ,  8484.05557502],\n",
       "       [ 5280.17244037,  6381.23875121,  6650.31202276,  2591.54664245,\n",
       "         8484.05557502,     0.        ]])"
      ]
     },
     "execution_count": 10,
     "metadata": {},
     "output_type": "execute_result"
    }
   ],
   "source": [
    "# 建立一个6*6，数值全部为0的矩阵\n",
    "dist = np.zeros((n, n))\n",
    "for i in range(n):\n",
    "    for j in range(n):\n",
    "        x, y = dtm[i, :], dtm[j, :]\n",
    "        dist[i, j] = np.sqrt(np.sum((x - y) ** 2))\n",
    "dist"
   ]
  },
  {
   "cell_type": "code",
   "execution_count": 11,
   "metadata": {},
   "outputs": [],
   "source": [
    "from sklearn.metrics.pairwise import euclidean_distances"
   ]
  },
  {
   "cell_type": "code",
   "execution_count": 12,
   "metadata": {},
   "outputs": [
    {
     "data": {
      "text/plain": [
       "array([[    0.  ,  3856.29,  4182.8 ,  5119.7 ,  7113.27,  5280.17],\n",
       "       [ 3856.29,     0.  ,  1922.61,  6313.08,  4126.24,  6381.24],\n",
       "       [ 4182.8 ,  1922.61,     0.  ,  6657.36,  4045.34,  6650.31],\n",
       "       [ 5119.7 ,  6313.08,  6657.36,     0.  ,  8363.83,  2591.55],\n",
       "       [ 7113.27,  4126.24,  4045.34,  8363.83,     0.  ,  8484.06],\n",
       "       [ 5280.17,  6381.24,  6650.31,  2591.55,  8484.06,     0.  ]])"
      ]
     },
     "execution_count": 12,
     "metadata": {},
     "output_type": "execute_result"
    }
   ],
   "source": [
    "dist = euclidean_distances(dtm)\n",
    "# round可以设置保留几位小数\n",
    "np.round(dist, 2)"
   ]
  },
  {
   "cell_type": "code",
   "execution_count": 13,
   "metadata": {},
   "outputs": [
    {
     "data": {
      "text/plain": [
       "6313.0833987838305"
      ]
     },
     "execution_count": 13,
     "metadata": {},
     "output_type": "execute_result"
    }
   ],
   "source": [
    "# filenames[1] == 'data/austen-brontë/Austen_Pride.txt'\n",
    "# filenames[3] == 'data/austen-brontë/CBronte_Jane.txt'\n",
    "# dist[1, 3] == dist[3, 1]\n",
    "dist[1, 3]"
   ]
  },
  {
   "cell_type": "code",
   "execution_count": 14,
   "metadata": {},
   "outputs": [
    {
     "name": "stdout",
     "output_type": "stream",
     "text": [
      "data/austen-brontë/CBronte_Villette.txt\n"
     ]
    },
    {
     "data": {
      "text/plain": [
       "True"
      ]
     },
     "execution_count": 14,
     "metadata": {},
     "output_type": "execute_result"
    }
   ],
   "source": [
    "print(filenames[5])\n",
    "dist[1, 3] > dist[3, 5]"
   ]
  },
  {
   "cell_type": "markdown",
   "metadata": {},
   "source": [
    "- 余弦相似性 cosine similarity，返回0-1之间的值，计算基础是两个向量之间的夹角\n",
    "    - 优点：能够考虑到文本长度"
   ]
  },
  {
   "cell_type": "code",
   "execution_count": 15,
   "metadata": {},
   "outputs": [],
   "source": [
    "from sklearn.metrics.pairwise import cosine_similarity"
   ]
  },
  {
   "cell_type": "code",
   "execution_count": 16,
   "metadata": {},
   "outputs": [
    {
     "data": {
      "text/plain": [
       "array([[ 0.  ,  0.02,  0.03,  0.05,  0.06,  0.05],\n",
       "       [ 0.02,  0.  ,  0.02,  0.05,  0.04,  0.04],\n",
       "       [ 0.03,  0.02, -0.  ,  0.06,  0.05,  0.05],\n",
       "       [ 0.05,  0.05,  0.06,  0.  ,  0.02,  0.01],\n",
       "       [ 0.06,  0.04,  0.05,  0.02,  0.  ,  0.01],\n",
       "       [ 0.05,  0.04,  0.05,  0.01,  0.01,  0.  ]])"
      ]
     },
     "execution_count": 16,
     "metadata": {},
     "output_type": "execute_result"
    }
   ],
   "source": [
    "dist = 1 - cosine_similarity(dtm)\n",
    "np.round(dist, 2)"
   ]
  },
  {
   "cell_type": "code",
   "execution_count": 17,
   "metadata": {},
   "outputs": [
    {
     "data": {
      "text/plain": [
       "0.047026234323164884"
      ]
     },
     "execution_count": 17,
     "metadata": {},
     "output_type": "execute_result"
    }
   ],
   "source": [
    "dist[1, 3]"
   ]
  },
  {
   "cell_type": "code",
   "execution_count": 18,
   "metadata": {},
   "outputs": [
    {
     "data": {
      "text/plain": [
       "True"
      ]
     },
     "execution_count": 18,
     "metadata": {},
     "output_type": "execute_result"
    }
   ],
   "source": [
    "dist[1, 3] > dist[3, 5]"
   ]
  },
  {
   "cell_type": "code",
   "execution_count": 19,
   "metadata": {},
   "outputs": [
    {
     "data": {
      "text/plain": [
       "array([[ 0.  ,  0.02,  0.03,  0.05,  0.06,  0.05],\n",
       "       [ 0.02,  0.  ,  0.02,  0.05,  0.04,  0.04],\n",
       "       [ 0.03,  0.02,  0.  ,  0.06,  0.05,  0.05],\n",
       "       [ 0.05,  0.05,  0.06,  0.  ,  0.02,  0.01],\n",
       "       [ 0.06,  0.04,  0.05,  0.02,  0.  ,  0.01],\n",
       "       [ 0.05,  0.04,  0.05,  0.01,  0.01,  0.  ]])"
      ]
     },
     "execution_count": 19,
     "metadata": {},
     "output_type": "execute_result"
    }
   ],
   "source": [
    "# 手动计算，相当于调用包sklearn.metrics.pairwise.cosine_similarity之后的原理\n",
    "norms = np.sqrt(np.sum(dtm * dtm, axis = 1, keepdims = True))\n",
    "dtm_normed = dtm / norms\n",
    "# np.dot就是执行矩阵乘法\n",
    "similarities = np.dot(dtm_normed, dtm_normed.T)\n",
    "1 - np.round(similarities, 2)"
   ]
  },
  {
   "cell_type": "code",
   "execution_count": 20,
   "metadata": {},
   "outputs": [
    {
     "data": {
      "text/plain": [
       "0.95297376567683512"
      ]
     },
     "execution_count": 20,
     "metadata": {},
     "output_type": "execute_result"
    }
   ],
   "source": [
    "similarities[1, 3]"
   ]
  },
  {
   "cell_type": "code",
   "execution_count": 21,
   "metadata": {},
   "outputs": [
    {
     "name": "stdout",
     "output_type": "stream",
     "text": [
      "1.0\n",
      "1.0\n"
     ]
    }
   ],
   "source": [
    "print(dist[1, 3] + similarities[1, 3])\n",
    "print(dist[2, 3] + similarities[2, 3])"
   ]
  },
  {
   "cell_type": "markdown",
   "metadata": {},
   "source": [
    "### 距离可视化\n",
    "- 在平面上描绘点（一个点代表一个文本），保证点之间的距离与计算的距离成比例\n",
    "- 多维尺度 Multidimensional Sacling（MDS）"
   ]
  },
  {
   "cell_type": "code",
   "execution_count": 22,
   "metadata": {},
   "outputs": [],
   "source": [
    "import os\n",
    "import matplotlib.pyplot as plt\n",
    "# plt.rcParams['figure.figsize'] = 15, 15\n",
    "from sklearn.manifold import MDS"
   ]
  },
  {
   "cell_type": "code",
   "execution_count": 23,
   "metadata": {},
   "outputs": [],
   "source": [
    "'''\n",
    "n_components 在n维空间绘制\n",
    "distance similarity: precomputed 因为我们已经计算出距离矩阵\n",
    "random_state 保证图表可复制，类似于seed\n",
    "'''\n",
    "mds = MDS(n_components=2, dissimilarity='precomputed', random_state=1)\n",
    "pos = mds.fit_transform(dist)"
   ]
  },
  {
   "cell_type": "code",
   "execution_count": 24,
   "metadata": {},
   "outputs": [
    {
     "name": "stdout",
     "output_type": "stream",
     "text": [
      "['Austen_Emma', 'Austen_Pride', 'Austen_Sense', 'CBronte_Jane', 'CBronte_Professor', 'CBronte_Villette']\n"
     ]
    }
   ],
   "source": [
    "xs, ys = pos[:, 0], pos[:, 1] # 坐标点\n",
    "names = [os.path.basename(fn).replace('.txt', '') for fn in filenames]\n",
    "print(names)"
   ]
  },
  {
   "cell_type": "code",
   "execution_count": 25,
   "metadata": {},
   "outputs": [
    {
     "data": {
      "image/png": "[encoded data removed]",
      "text/plain": [
       "<matplotlib.figure.Figure at 0x10c9cb940>"
      ]
     },
     "metadata": {},
     "output_type": "display_data"
    }
   ],
   "source": [
    "for x, y, name in zip(xs, ys, names):\n",
    "    color = 'orange' if 'Austen' in name else 'skyblue'\n",
    "    plt.scatter(x, y, c = color)\n",
    "    plt.text(x, y, name)\n",
    "plt.show()"
   ]
  },
  {
   "cell_type": "code",
   "execution_count": 26,
   "metadata": {},
   "outputs": [],
   "source": [
    "# 将距离示意图绘制在三维空间\n",
    "mds = MDS(n_components=3, dissimilarity='precomputed', random_state=1)\n",
    "pos = mds.fit_transform(dist)"
   ]
  },
  {
   "cell_type": "code",
   "execution_count": 27,
   "metadata": {},
   "outputs": [
    {
     "data": {
      "image/png": "[encoded data removed]",
      "text/plain": [
       "<matplotlib.figure.Figure at 0x10c9dceb8>"
      ]
     },
     "metadata": {},
     "output_type": "display_data"
    }
   ],
   "source": [
    "from mpl_toolkits.mplot3d import Axes3D\n",
    "\n",
    "fig = plt.figure()\n",
    "ax = fig.add_subplot(111, projection = '3d')\n",
    "ax.scatter(pos[:, 0], pos[:, 1], pos[:, 2])\n",
    "for x, y, z, s in zip(pos[:, 0], pos[:, 1], pos[:, 2], names):\n",
    "    ax.text(x, y, z, s)\n",
    "plt.show()"
   ]
  },
  {
   "cell_type": "markdown",
   "metadata": {},
   "source": [
    "### 执行文本聚类：基于距离\n",
    "- distances to clusters：距离相近的归为一类\n",
    "- 基于距离聚类有多重计算方法\n",
    "- 方法：Ward's method，产生聚类层级\n",
    "    1. 每个文本都自成一类\n",
    "    2. 找到最近的类然后聚合，类与类的距离在不断改变，直接最后只有一个类保留下来\n",
    "    3. 绘制出树状图，显示类聚合的记录"
   ]
  },
  {
   "cell_type": "code",
   "execution_count": 28,
   "metadata": {},
   "outputs": [],
   "source": [
    "from scipy.cluster.hierarchy import ward, dendrogram # dendrogram：系统树图"
   ]
  },
  {
   "cell_type": "code",
   "execution_count": 29,
   "metadata": {},
   "outputs": [],
   "source": [
    "linkage_matrix = ward(dist)"
   ]
  },
  {
   "cell_type": "code",
   "execution_count": 30,
   "metadata": {},
   "outputs": [
    {
     "data": {
      "text/plain": [
       "{'color_list': ['g', 'g', 'r', 'r', 'b'],\n",
       " 'dcoord': [[0.0, 0.016230837530887207, 0.016230837530887207, 0.0],\n",
       "  [0.0, 0.025545848899507794, 0.025545848899507794, 0.016230837530887207],\n",
       "  [0.0, 0.026664938674017275, 0.026664938674017275, 0.0],\n",
       "  [0.0, 0.039973173157400656, 0.039973173157400656, 0.026664938674017275],\n",
       "  [0.025545848899507794,\n",
       "   0.16535482370283791,\n",
       "   0.16535482370283791,\n",
       "   0.039973173157400656]],\n",
       " 'icoord': [[15.0, 15.0, 25.0, 25.0],\n",
       "  [5.0, 5.0, 20.0, 20.0],\n",
       "  [45.0, 45.0, 55.0, 55.0],\n",
       "  [35.0, 35.0, 50.0, 50.0],\n",
       "  [12.5, 12.5, 42.5, 42.5]],\n",
       " 'ivl': ['CBronte_Jane',\n",
       "  'CBronte_Professor',\n",
       "  'CBronte_Villette',\n",
       "  'Austen_Emma',\n",
       "  'Austen_Pride',\n",
       "  'Austen_Sense'],\n",
       " 'leaves': [3, 4, 5, 0, 1, 2]}"
      ]
     },
     "execution_count": 30,
     "metadata": {},
     "output_type": "execute_result"
    }
   ],
   "source": [
    "dendrogram(linkage_matrix, orientation='left', labels = names)"
   ]
  },
  {
   "cell_type": "code",
   "execution_count": 31,
   "metadata": {},
   "outputs": [
    {
     "data": {
      "image/png": "[encoded data removed]",
      "text/plain": [
       "<matplotlib.figure.Figure at 0x10c9d15c0>"
      ]
     },
     "metadata": {},
     "output_type": "display_data"
    }
   ],
   "source": [
    "plt.tight_layout()\n",
    "plt.show()"
   ]
  },
  {
   "cell_type": "markdown",
   "metadata": {},
   "source": [
    "### 练习"
   ]
  },
  {
   "cell_type": "markdown",
   "metadata": {},
   "source": [
    "- Find two different ways of determining the number of times the word ‘situation’ appears in Emma. (Make sure the methods produce the same result.)"
   ]
  },
  {
   "cell_type": "code",
   "execution_count": 32,
   "metadata": {},
   "outputs": [],
   "source": [
    "import numpy as np\n",
    "from sklearn.feature_extraction.text import CountVectorizer"
   ]
  },
  {
   "cell_type": "code",
   "execution_count": 33,
   "metadata": {},
   "outputs": [
    {
     "name": "stdout",
     "output_type": "stream",
     "text": [
      "(1, 7237)\n",
      "(7237,)\n"
     ]
    }
   ],
   "source": [
    "filename = ['data/austen-brontë/Austen_Emma.txt']\n",
    "vectorizer = CountVectorizer(input = 'filename')\n",
    "dtm = vectorizer.fit_transform(filename)\n",
    "vocab = vectorizer.get_feature_names()\n",
    "dtm = dtm.toarray()\n",
    "vocab = np.array(vocab)\n",
    "print(dtm.shape)\n",
    "print(vocab.shape)"
   ]
  },
  {
   "cell_type": "code",
   "execution_count": 34,
   "metadata": {},
   "outputs": [
    {
     "data": {
      "text/plain": [
       "64"
      ]
     },
     "execution_count": 34,
     "metadata": {},
     "output_type": "execute_result"
    }
   ],
   "source": [
    "# Way 1\n",
    "dtm[0, list(vocab).index('situation')]"
   ]
  },
  {
   "cell_type": "code",
   "execution_count": 35,
   "metadata": {},
   "outputs": [
    {
     "data": {
      "text/plain": [
       "array([64], dtype=int64)"
      ]
     },
     "execution_count": 35,
     "metadata": {},
     "output_type": "execute_result"
    }
   ],
   "source": [
    "# Way 2\n",
    "dtm[0, vocab == 'situation']"
   ]
  },
  {
   "cell_type": "markdown",
   "metadata": {},
   "source": [
    "- Working with the strings below as documents and using `CountVectorizer` with the `input='content'` parameter, create a document-term matrix. Apart from the `input` parameter, use the default settings."
   ]
  },
  {
   "cell_type": "code",
   "execution_count": 36,
   "metadata": {},
   "outputs": [],
   "source": [
    "text1 = \"Indeed, she had a rather kindly disposition.\"\n",
    "text2 = \"The real evils, indeed, of Emma's situation were the power of having rather too much her own way, \\\n",
    "and a disposition to think a little too well of herself;\"\n",
    "text3 = \"The Jaccard distance is a way of measuring the distance from one set to another set.\""
   ]
  },
  {
   "cell_type": "code",
   "execution_count": 37,
   "metadata": {},
   "outputs": [
    {
     "name": "stdout",
     "output_type": "stream",
     "text": [
      "(3, 34)\n",
      "(34,)\n"
     ]
    }
   ],
   "source": [
    "contents = [text1, text2, text3]\n",
    "# 注意：input不再是filename而是content\n",
    "vectorizer = CountVectorizer(input = 'content')\n",
    "dtm = vectorizer.fit_transform(contents)\n",
    "vocab = vectorizer.get_feature_names()\n",
    "dtm = dtm.toarray()\n",
    "vocab = np.array(vocab)\n",
    "print(dtm.shape)\n",
    "print(vocab.shape)"
   ]
  },
  {
   "cell_type": "code",
   "execution_count": 38,
   "metadata": {},
   "outputs": [
    {
     "data": {
      "text/plain": [
       "numpy.ndarray"
      ]
     },
     "execution_count": 38,
     "metadata": {},
     "output_type": "execute_result"
    }
   ],
   "source": [
    "type(dtm)"
   ]
  },
  {
   "cell_type": "code",
   "execution_count": 39,
   "metadata": {},
   "outputs": [
    {
     "data": {
      "text/plain": [
       "array([[0, 0, 1, 0, 0, 0, 0, 1, 0, 0, 0, 1, 0, 0, 1, 0, 0, 0, 0, 0, 0, 0,\n",
       "        1, 0, 0, 1, 0, 0, 0, 0, 0, 0, 0, 0],\n",
       "       [1, 0, 1, 0, 1, 1, 0, 0, 1, 1, 1, 1, 0, 0, 0, 1, 0, 1, 3, 0, 1, 1,\n",
       "        1, 1, 0, 0, 1, 2, 1, 1, 2, 1, 1, 1],\n",
       "       [0, 1, 0, 2, 0, 0, 1, 0, 0, 0, 0, 0, 1, 1, 0, 0, 1, 0, 1, 1, 0, 0,\n",
       "        0, 0, 2, 0, 0, 2, 0, 1, 0, 1, 0, 0]], dtype=int64)"
      ]
     },
     "execution_count": 39,
     "metadata": {},
     "output_type": "execute_result"
    }
   ],
   "source": [
    "dtm"
   ]
  },
  {
   "cell_type": "code",
   "execution_count": 40,
   "metadata": {},
   "outputs": [
    {
     "data": {
      "text/plain": [
       "array([[ 0.  ,  6.08,  5.2 ],\n",
       "       [ 6.08,  0.  ,  6.32],\n",
       "       [ 5.2 ,  6.32,  0.  ]])"
      ]
     },
     "execution_count": 40,
     "metadata": {},
     "output_type": "execute_result"
    }
   ],
   "source": [
    "from sklearn.metrics.pairwise import euclidean_distances\n",
    "dist = euclidean_distances(dtm)\n",
    "np.round(dist, 2)"
   ]
  },
  {
   "cell_type": "code",
   "execution_count": 41,
   "metadata": {},
   "outputs": [
    {
     "data": {
      "text/plain": [
       "True"
      ]
     },
     "execution_count": 41,
     "metadata": {},
     "output_type": "execute_result"
    }
   ],
   "source": [
    "dist[1, 2] > dist[0, 1]"
   ]
  },
  {
   "cell_type": "code",
   "execution_count": 42,
   "metadata": {},
   "outputs": [
    {
     "data": {
      "text/plain": [
       "array([[ 1.  ,  0.2 ,  0.  ],\n",
       "       [ 0.2 ,  1.  ,  0.32],\n",
       "       [ 0.  ,  0.32,  1.  ]])"
      ]
     },
     "execution_count": 42,
     "metadata": {},
     "output_type": "execute_result"
    }
   ],
   "source": [
    "from sklearn.metrics.pairwise import cosine_similarity\n",
    "dist = cosine_similarity(dtm)\n",
    "np.round(dist, 2)"
   ]
  },
  {
   "cell_type": "code",
   "execution_count": 43,
   "metadata": {},
   "outputs": [
    {
     "data": {
      "text/plain": [
       "True"
      ]
     },
     "execution_count": 43,
     "metadata": {},
     "output_type": "execute_result"
    }
   ],
   "source": [
    "dist[1, 2] > dist[0, 1]"
   ]
  },
  {
   "cell_type": "markdown",
   "metadata": {},
   "source": [
    "- Using the document-term matrix just created, calculate the Euclidean distance, Jaccard distance, and cosine distance between each pair of documents. Make sure to calculate distance (rather than similarity). Are our intuitions about which texts are most similar reflected in the measurements of distance?"
   ]
  },
  {
   "cell_type": "markdown",
   "metadata": {},
   "source": [
    "### 距离计算\n",
    "- Ward：用于系统聚类中，借助最小方差原则，一个类中的方差是最小的\n",
    "- Jaccard：通过集合之间的交集关系来计算相似性"
   ]
  }
 ],
 "metadata": {
  "kernelspec": {
   "display_name": "Python 3",
   "language": "python",
   "name": "python3"
  },
  "language_info": {
   "codemirror_mode": {
    "name": "ipython",
    "version": 3
   },
   "file_extension": ".py",
   "mimetype": "text/x-python",
   "name": "python",
   "nbconvert_exporter": "python",
   "pygments_lexer": "ipython3",
   "version": "3.6.3"
  }
 },
 "nbformat": 4,
 "nbformat_minor": 2
}
